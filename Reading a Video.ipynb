{
 "cells": [
  {
   "cell_type": "code",
   "execution_count": 1,
   "id": "initial_id",
   "metadata": {
    "collapsed": true,
    "ExecuteTime": {
     "end_time": "2023-10-07T18:11:33.138915144Z",
     "start_time": "2023-10-07T18:11:08.514016832Z"
    }
   },
   "outputs": [
    {
     "name": "stderr",
     "output_type": "stream",
     "text": [
      "Warning: Ignoring XDG_SESSION_TYPE=wayland on Gnome. Use QT_QPA_PLATFORM=wayland to run on Wayland anyway.\n"
     ]
    }
   ],
   "source": [
    "# importing libraries \n",
    "import cv2\n",
    "\n",
    "# Create a VideoCapture object and read from input file \n",
    "cap = cv2.VideoCapture('/home/abi/Hard Disk/Final-Year-Project/Elephant-Dataset/Videos/set1/2b132f48-7104b07b.mp4')\n",
    "\n",
    "# Check if camera opened successfully \n",
    "if (cap.isOpened() == False):\n",
    "    print(\"Error opening video file\")\n",
    "\n",
    "# Read until video is completed \n",
    "while(cap.isOpened()):\n",
    "\n",
    "    # Capture frame-by-frame \n",
    "    ret, frame = cap.read()\n",
    "    if ret == True:\n",
    "        # Display the resulting frame \n",
    "        cv2.imshow('Frame', frame)\n",
    "\n",
    "        # Press Q on keyboard to exit \n",
    "        if cv2.waitKey(25) & 0xFF == ord('q'):\n",
    "            break\n",
    "\n",
    "    # Break the loop \n",
    "    else:\n",
    "        break\n",
    "\n",
    "# When everything done, release \n",
    "# the video capture object \n",
    "cap.release()\n",
    "\n",
    "# Closes all the frames \n",
    "cv2.destroyAllWindows() \n"
   ]
  },
  {
   "cell_type": "code",
   "execution_count": null,
   "outputs": [],
   "source": [],
   "metadata": {
    "collapsed": false
   },
   "id": "c257a2917cf9a08b"
  }
 ],
 "metadata": {
  "kernelspec": {
   "display_name": "Python 3",
   "language": "python",
   "name": "python3"
  },
  "language_info": {
   "codemirror_mode": {
    "name": "ipython",
    "version": 2
   },
   "file_extension": ".py",
   "mimetype": "text/x-python",
   "name": "python",
   "nbconvert_exporter": "python",
   "pygments_lexer": "ipython2",
   "version": "2.7.6"
  }
 },
 "nbformat": 4,
 "nbformat_minor": 5
}
